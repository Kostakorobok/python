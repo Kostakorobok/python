{
 "cells": [
  {
   "metadata": {},
   "cell_type": "markdown",
   "source": [
    "# Week 8: Turbulent flow\n",
    "\n",
    "- Most flows are turbulent\n",
    "- Turbulent flows are complex and not fully understood\n",
    "- We rely on empirical and semi-empirical correlations\n",
    "\n"
   ],
   "id": "430d61ae7377e85b"
  },
  {
   "metadata": {},
   "cell_type": "markdown",
   "source": [
    "## General Expression for the turbulent profile in a pipe:\n",
    "\n",
    "$u = u_{max} \\times (1-\\frac{r}{R})^{\\frac{1}{n}}$, where $n$, is a constant"
   ],
   "id": "7ce1bf5402e3f86"
  },
  {
   "metadata": {},
   "cell_type": "markdown",
   "source": [
    "- Turbulent flow is characterised by disorderly and rapid fluctuations of swirling regions of fluid called eddies\n",
    "- These fluctuations provide an additional mechanism for momentum and energy transfer\n",
    "- In turbulent flow, the swirling eddies transport mass, momentum, and energy to other regions of flow much more rapidly that molecular diffusion, greatly enhancing mass,. momentum and heat transfer."
   ],
   "id": "2ea647d78250dbda"
  },
  {
   "metadata": {},
   "cell_type": "code",
   "outputs": [],
   "execution_count": null,
   "source": "",
   "id": "eeb8862449d8d0d1"
  }
 ],
 "metadata": {
  "kernelspec": {
   "display_name": "Python 3",
   "language": "python",
   "name": "python3"
  },
  "language_info": {
   "codemirror_mode": {
    "name": "ipython",
    "version": 2
   },
   "file_extension": ".py",
   "mimetype": "text/x-python",
   "name": "python",
   "nbconvert_exporter": "python",
   "pygments_lexer": "ipython2",
   "version": "2.7.6"
  }
 },
 "nbformat": 4,
 "nbformat_minor": 5
}
