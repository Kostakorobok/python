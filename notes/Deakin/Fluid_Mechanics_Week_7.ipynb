{
 "cells": [
  {
   "metadata": {},
   "cell_type": "markdown",
   "source": "# Week 7: Internal Flow",
   "id": "16187ae603e15eb7"
  },
  {
   "metadata": {},
   "cell_type": "markdown",
   "source": [
    "Learning objectives:\n",
    "- Laminar flow in pipes (Internal flow)\n",
    "- Frictional losses"
   ],
   "id": "e08ddd898b24c8f4"
  },
  {
   "metadata": {},
   "cell_type": "markdown",
   "source": [
    "__Laminar and Turbulent Flow__\n",
    "\n",
    "Internal flow can be classified as:\n",
    "- Laminar, smooth streamlines and highly ordered motion\n",
    "- Turbulent, flow exhibits flactuations\n",
    "\n",
    "Reynold's Number defined as ratio of inertial forces versus viscous forces and defined as:<br>\n",
    "$Re = \\frac{\\rho \\times V \\times D}{\\mu}$ or $Re = \\frac{V \\times D}{v}$<br>\n",
    "where $v$ is kinematic velocity, $\\mu$ is dynamic velocity<br>\n",
    "$v = \\frac{\\mu}{\\rho}$\n",
    "\n",
    "Reynold's number is used to predic flow characteristics, whether its:\n",
    "- Laminar, $Re < 2300$\n",
    "- Transitional $2300 < Re < 4000$\n",
    "- Turbulent $Re > 4000 $\n",
    "\n",
    "For internal flow, characteristic length D is ususally associated with hydraulic diameter $D_{h}$:<br>\n",
    "$D_{h} = \\frac{4 \\times Area}{Perimeter}$"
   ],
   "id": "d65ed65c4a5158d6"
  },
  {
   "metadata": {},
   "cell_type": "markdown",
   "source": [
    "__The Entrance Region__\n",
    "- At the inlet, when flow enter the pipe flow is not fully developed\n",
    "- The region from the inlet to the poitn where flow reaches fully developed flow called **Hydrodynamic Entrance Region**\n",
    "- The length of that region is called **Hydrodynamic Entry Length $L_{h}$**\n",
    "\n",
    "![Velocity Profile](images/velocity_profile.png)<br>\n",
    "<br>\n",
    "$L_{E, Laminar} \\approx D \\times 0.05Re$<br>\n",
    "$L_{E, Turbulent} \\approx D \\times 1.359Re^{\\frac{1}{4}}$<br>\n",
    "<br>\n",
    "![Shear stress VS flow](images/fully_developed_flow_shear_stress.png)<br>"
   ],
   "id": "6812f8184371b47f"
  },
  {
   "metadata": {},
   "cell_type": "markdown",
   "source": [
    "__Average Velocity in a pipe__<br>\n",
    "$V_{avg} = \\frac{2}{R^{2}} \\int_{0}^{R} u(r) \\, dr$"
   ],
   "id": "604f3c1e6aba7551"
  },
  {
   "metadata": {},
   "cell_type": "markdown",
   "source": [
    "__Laminar Flow Profile__<br>\n",
    "Equation 10:<br>\n",
    "$u = - \\frac{R^{2}}{4\\mu} \\, \\frac{dP}{dx} \\, [1-\\frac{r^{2}}{R^{2}}]$<br>\n",
    "Equation 11:<br>\n",
    "$V_{Av} = - \\frac{R^{2}}{8\\mu} \\, \\frac{dP}{dx}$<br>\n",
    "<br>\n",
    "Substituting equation 11 into equation 10:<br>\n",
    "equation 12:<br>\n",
    "$u = 2V_{ave} \\, [1-\\frac{r^{2}}{R^{2}}]$<br>\n",
    "at the centre line $r = 0$<br>\n",
    "Equation 13:<br>\n",
    "$u_{max} = 2V_{ave}$<br>\n",
    "Equation 14:<br>\n",
    "$V_{Av} = -\\frac{D^{2}}{32\\mu} \\, \\frac{dP}{dx}$<br>\n",
    "Equation 14 can be written as:<br>\n",
    "$\\frac{dP}{dx} = \\frac{32\\mu V_{ave}}{D^2} \\, \\rightarrow \\, dP = \\frac{32\\mu V_{ave}}{D^{2}} \\, dx$<br>\n",
    "<br>\n",
    "Integrating equation 14:\n",
    "$\\Delta P = \\frac{32\\mu V_{ave}L}{D^{2}}$, is the theoretical pressure drop for laminar flow in a pipe"
   ],
   "id": "dccbcbfdc07ca926"
  },
  {
   "metadata": {},
   "cell_type": "markdown",
   "source": [
    "__Fully Developed Flow in Pipes__\n",
    "- The flow is resisted by viscous shear stress within the fluid and the friction in the pipe wall\n",
    "- The losses attributed to friction is a surface roughness phenomena\n",
    "- it is difficult to quantify the losses from friction\n",
    "<br>\n",
    "$\\Delta P = f \\, \\frac{L}{D} \\, \\frac{\\rho V^{2}}{2}$, where $f$ is known as Darcy friction factor<br>\n",
    "<br>\n",
    "Theoretical pressure drop is:<br>\n",
    "$\\Delta P = \\frac{32\\mu V_{ave}L}{D^{2}}$<br>\n",
    "Experimental value for pressure drop (as suggested by Weisbach):<br>\n",
    "$\\Delta P = f \\, \\frac{L}{D} \\, \\frac{\\rho V^{2}}{2}$<br>\n",
    "<br>\n",
    "If both equation are equated:<br>\n",
    "$\\frac{32\\mu V_{ave}L}{D^{2}} = f \\, \\frac{L}{D} \\, \\frac{\\rho V^{2}}{2} \\rightarrow f = \\frac{64}{Re}$"
   ],
   "id": "897bd3642c1e9b46"
  },
  {
   "metadata": {},
   "cell_type": "markdown",
   "source": "",
   "id": "78dae656259eebe"
  }
 ],
 "metadata": {
  "kernelspec": {
   "display_name": "Python 3",
   "language": "python",
   "name": "python3"
  },
  "language_info": {
   "codemirror_mode": {
    "name": "ipython",
    "version": 2
   },
   "file_extension": ".py",
   "mimetype": "text/x-python",
   "name": "python",
   "nbconvert_exporter": "python",
   "pygments_lexer": "ipython2",
   "version": "2.7.6"
  }
 },
 "nbformat": 4,
 "nbformat_minor": 5
}
