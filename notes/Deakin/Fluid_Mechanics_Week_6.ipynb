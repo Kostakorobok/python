{
 "cells": [
  {
   "metadata": {},
   "cell_type": "markdown",
   "source": "# Fluid Mechanics",
   "id": "70aa8e8b449f8164"
  },
  {
   "metadata": {},
   "cell_type": "markdown",
   "source": "## Week 6: Momentum Analysis",
   "id": "d687271116ef36d"
  },
  {
   "metadata": {},
   "cell_type": "markdown",
   "source": "### Learning Objectives\n",
   "id": "57968024594960df"
  },
  {
   "metadata": {},
   "cell_type": "markdown",
   "source": [
    "- Momentum analysis basics\n",
    "- Focus caused by deflection of steady jets\n",
    "- Forces on nozles and pipe sections"
   ],
   "id": "ecdf646149211de9"
  },
  {
   "metadata": {},
   "cell_type": "code",
   "outputs": [],
   "execution_count": null,
   "source": "",
   "id": "426dc9ee2cf1e14a"
  }
 ],
 "metadata": {
  "kernelspec": {
   "display_name": "Python 3",
   "language": "python",
   "name": "python3"
  },
  "language_info": {
   "codemirror_mode": {
    "name": "ipython",
    "version": 2
   },
   "file_extension": ".py",
   "mimetype": "text/x-python",
   "name": "python",
   "nbconvert_exporter": "python",
   "pygments_lexer": "ipython2",
   "version": "2.7.6"
  }
 },
 "nbformat": 4,
 "nbformat_minor": 5
}
